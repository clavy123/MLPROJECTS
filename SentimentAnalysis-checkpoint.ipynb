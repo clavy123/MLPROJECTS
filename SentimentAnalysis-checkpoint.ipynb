{
 "cells": [
  {
   "cell_type": "code",
   "execution_count": 6,
   "metadata": {},
   "outputs": [],
   "source": [
    "import pandas as pd\n",
    "from sklearn.feature_extraction.text import TfidfVectorizer\n",
    "from sklearn.model_selection import train_test_split\n",
    "from sklearn.svm import LinearSVC\n",
    "from sklearn.metrics import classification_report\n",
    "from sklearn.metrics import confusion_matrix\n",
    "import re\n",
    "import numpy as np\n",
    "from nltk.corpus import stopwords\n",
    "import matplotlib.pyplot as plt\n",
    "import seaborn as sns\n",
    "import streamlit as st"
   ]
  },
  {
   "cell_type": "code",
   "execution_count": 7,
   "metadata": {},
   "outputs": [
    {
     "data": {
      "text/plain": [
       "<matplotlib.axes._subplots.AxesSubplot at 0x267ead835f8>"
      ]
     },
     "execution_count": 7,
     "metadata": {},
     "output_type": "execute_result"
    },
    {
     "data": {
      "image/png": "[encoded data removed]",
      "text/plain": [
       "<Figure size 720x360 with 1 Axes>"
      ]
     },
     "metadata": {},
     "output_type": "display_data"
    }
   ],
   "source": [
    "df=pd.read_csv(\"C://Users//HP//Desktop//train_data.csv\")\n",
    "df=df.iloc[0:2500,:]\n",
    "sentiment_list=[]\n",
    "for i in df.sentiment:\n",
    "    if i=='positive':\n",
    "        sentiment_list.append(1)\n",
    "    else:\n",
    "        sentiment_list.append(0)\n",
    "df['sentiment']=sentiment_list\n",
    "data=df.iloc[0:500,:]\n",
    "plt.figure(figsize=(10,5))\n",
    "sns.set_theme(style=\"darkgrid\")\n",
    "sns.countplot(x=data.sentiment,hue=data.sentiment,data = data,dodge=True)"
   ]
  },
  {
   "cell_type": "code",
   "execution_count": 11,
   "metadata": {},
   "outputs": [],
   "source": [
    "def preprocess_text(x):\n",
    "    x=str(x).lower()\n",
    "    x=re.sub(\"(.)\\1{2,}\", \"\\1\", x)\n",
    "    x=re.compile(r'<[^>]+>').sub('', x)\n",
    "    x=x.replace('?','')\n",
    "    x=x.replace('*','')\n",
    "    x=x.replace('!','')\n",
    "    return x\n",
    "df.review=df.review.apply(lambda x:preprocess_text(x))"
   ]
  },
  {
   "cell_type": "code",
   "execution_count": 12,
   "metadata": {},
   "outputs": [
    {
     "name": "stdout",
     "output_type": "stream",
     "text": [
      "0.858\n",
      "              precision    recall  f1-score   support\n",
      "\n",
      "           0       0.89      0.83      0.86       265\n",
      "           1       0.82      0.89      0.85       235\n",
      "\n",
      "    accuracy                           0.86       500\n",
      "   macro avg       0.86      0.86      0.86       500\n",
      "weighted avg       0.86      0.86      0.86       500\n",
      "\n"
     ]
    }
   ],
   "source": [
    "final_stopwords_list = stopwords.words('english')\n",
    "tfidf = TfidfVectorizer(use_idf=True,norm='l2',smooth_idf=True,lowercase=True,analyzer='word',stop_words=final_stopwords_list,preprocessor=preprocess_text,max_features=None)\n",
    "y=df.sentiment\n",
    "x=tfidf.fit_transform(df.review)\n",
    "X_train,X_test,Y_train,Y_test=train_test_split(x,y,test_size=0.2,random_state=0)\n",
    "model=LinearSVC()\n",
    "model.fit(X_train,Y_train)\n",
    "Y_predict=model.predict(X_test)\n",
    "print(model.score(X_test,Y_test))\n",
    "print(classification_report(Y_test,Y_predict))"
   ]
  },
  {
   "cell_type": "code",
   "execution_count": 5,
   "metadata": {},
   "outputs": [
    {
     "data": {
      "image/png": "[encoded data removed]",
      "text/plain": [
       "<Figure size 432x288 with 2 Axes>"
      ]
     },
     "metadata": {},
     "output_type": "display_data"
    }
   ],
   "source": [
    "cf_matrix=confusion_matrix(Y_test,Y_predict,labels=[0,1])\n",
    "st.title(\"Sentiment Analysis\")\n",
    "st.write(\"Sentiment Analysis on IMDB Datasets\")\n",
    "sns.heatmap(cf_matrix/np.sum(cf_matrix), annot=True,fmt='.2%', cmap='Blues')\n",
    "st.title(\"confusion_matrix...\")\n",
    "st.write(cf_matrix)\n",
    "movie_review=st.text_input(\"Enter the review\")\n",
    "v=tfidf.transform([movie_review])\n",
    "if st.button(\"Predict\"):\n",
    "    st.success(model.predict(v))\n",
    "    st.success(\"Output is correct\")"
   ]
  },
  {
   "cell_type": "code",
   "execution_count": null,
   "metadata": {},
   "outputs": [],
   "source": []
  },
  {
   "cell_type": "code",
   "execution_count": null,
   "metadata": {},
   "outputs": [],
   "source": []
  }
 ],
 "metadata": {
  "kernelspec": {
   "display_name": "Python 3",
   "language": "python",
   "name": "python3"
  },
  "language_info": {
   "codemirror_mode": {
    "name": "ipython",
    "version": 3
   },
   "file_extension": ".py",
   "mimetype": "text/x-python",
   "name": "python",
   "nbconvert_exporter": "python",
   "pygments_lexer": "ipython3",
   "version": "3.7.3"
  }
 },
 "nbformat": 4,
 "nbformat_minor": 4
}
